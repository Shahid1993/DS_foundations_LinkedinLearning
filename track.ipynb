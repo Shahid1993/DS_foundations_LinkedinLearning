{
 "cells": [
  {
   "cell_type": "code",
   "execution_count": 114,
   "metadata": {},
   "outputs": [],
   "source": [
    "from os import path"
   ]
  },
  {
   "cell_type": "code",
   "execution_count": 115,
   "metadata": {},
   "outputs": [],
   "source": [
    "fname = path.expanduser(r'C:\\Users\\the name oofn\\Videos\\Learning\\Data Science Foundations - Python Scientific Stack\\Ex_Files_Data_Science_Python\\Exercise Files\\Ch04\\04_02\\track.csv')"
   ]
  },
  {
   "cell_type": "code",
   "execution_count": 116,
   "metadata": {},
   "outputs": [
    {
     "data": {
      "text/plain": [
       "43844"
      ]
     },
     "execution_count": 116,
     "metadata": {},
     "output_type": "execute_result"
    }
   ],
   "source": [
    "path.getsize(fname)"
   ]
  },
  {
   "cell_type": "code",
   "execution_count": 117,
   "metadata": {},
   "outputs": [
    {
     "data": {
      "text/plain": [
       "42.81640625"
      ]
     },
     "execution_count": 117,
     "metadata": {},
     "output_type": "execute_result"
    }
   ],
   "source": [
    "path.getsize(fname)/ (1<<10)"
   ]
  },
  {
   "cell_type": "code",
   "execution_count": 118,
   "metadata": {},
   "outputs": [
    {
     "name": "stdout",
     "output_type": "stream",
     "text": [
      "time,lat,lng,height\n",
      "2015-08-20 03:48:07.235,35.015021,32.519585,136.1999969482422\n",
      "2015-08-20 03:48:24.734,35.014954,32.519606,126.5999984741211\n",
      "2015-08-20 03:48:25.660,35.014871,32.519612,123.0\n",
      "2015-08-20 03:48:26.819,35.014824,32.519654,120.5\n",
      "2015-08-20 03:48:27.828,35.014776,32.519689,118.9000015258789\n",
      "2015-08-20 03:48:29.720,35.014704,32.519691,119.9000015258789\n",
      "2015-08-20 03:48:30.669,35.014657,32.519734,120.9000015258789\n",
      "2015-08-20 03:48:33.793,35.014563,32.519719,121.69999694824219\n",
      "2015-08-20 03:48:34.869,35.014549,32.519694,121.19999694824219\n",
      "2015-08-20 03:48:37.708,35.014515,32.519625,121.69999694824219\n"
     ]
    }
   ],
   "source": [
    "with open(fname) as fp:\n",
    "    for lnum, line in enumerate(fp):\n",
    "        if lnum > 10:\n",
    "            break\n",
    "        print(line[:-1])"
   ]
  },
  {
   "cell_type": "code",
   "execution_count": 119,
   "metadata": {},
   "outputs": [
    {
     "name": "stdout",
     "output_type": "stream",
     "text": [
      "741\n"
     ]
    }
   ],
   "source": [
    "with open(fname) as fp:\n",
    "    print(sum(1 for line in fp))"
   ]
  },
  {
   "cell_type": "code",
   "execution_count": 120,
   "metadata": {},
   "outputs": [],
   "source": [
    "import pandas as pd"
   ]
  },
  {
   "cell_type": "code",
   "execution_count": 121,
   "metadata": {},
   "outputs": [],
   "source": [
    "df = pd.read_csv(fname)"
   ]
  },
  {
   "cell_type": "code",
   "execution_count": 122,
   "metadata": {},
   "outputs": [
    {
     "data": {
      "text/plain": [
       "740"
      ]
     },
     "execution_count": 122,
     "metadata": {},
     "output_type": "execute_result"
    }
   ],
   "source": [
    "len(df)"
   ]
  },
  {
   "cell_type": "code",
   "execution_count": 123,
   "metadata": {},
   "outputs": [
    {
     "data": {
      "text/plain": [
       "Index(['time', 'lat', 'lng', 'height'], dtype='object')"
      ]
     },
     "execution_count": 123,
     "metadata": {},
     "output_type": "execute_result"
    }
   ],
   "source": [
    "df.columns"
   ]
  },
  {
   "cell_type": "code",
   "execution_count": 124,
   "metadata": {},
   "outputs": [
    {
     "name": "stdout",
     "output_type": "stream",
     "text": [
      "<class 'pandas.core.frame.DataFrame'>\n",
      "RangeIndex: 740 entries, 0 to 739\n",
      "Data columns (total 4 columns):\n",
      "time      740 non-null object\n",
      "lat       740 non-null float64\n",
      "lng       740 non-null float64\n",
      "height    740 non-null float64\n",
      "dtypes: float64(3), object(1)\n",
      "memory usage: 23.2+ KB\n"
     ]
    }
   ],
   "source": [
    "df.info()"
   ]
  },
  {
   "cell_type": "code",
   "execution_count": 125,
   "metadata": {},
   "outputs": [
    {
     "data": {
      "text/html": [
       "<div>\n",
       "<style scoped>\n",
       "    .dataframe tbody tr th:only-of-type {\n",
       "        vertical-align: middle;\n",
       "    }\n",
       "\n",
       "    .dataframe tbody tr th {\n",
       "        vertical-align: top;\n",
       "    }\n",
       "\n",
       "    .dataframe thead th {\n",
       "        text-align: right;\n",
       "    }\n",
       "</style>\n",
       "<table border=\"1\" class=\"dataframe\">\n",
       "  <thead>\n",
       "    <tr style=\"text-align: right;\">\n",
       "      <th></th>\n",
       "      <th>time</th>\n",
       "      <th>lat</th>\n",
       "      <th>lng</th>\n",
       "      <th>height</th>\n",
       "    </tr>\n",
       "  </thead>\n",
       "  <tbody>\n",
       "    <tr>\n",
       "      <th>0</th>\n",
       "      <td>2015-08-20 03:48:07.235</td>\n",
       "      <td>35.015021</td>\n",
       "      <td>32.519585</td>\n",
       "      <td>136.199997</td>\n",
       "    </tr>\n",
       "    <tr>\n",
       "      <th>1</th>\n",
       "      <td>2015-08-20 03:48:24.734</td>\n",
       "      <td>35.014954</td>\n",
       "      <td>32.519606</td>\n",
       "      <td>126.599998</td>\n",
       "    </tr>\n",
       "    <tr>\n",
       "      <th>2</th>\n",
       "      <td>2015-08-20 03:48:25.660</td>\n",
       "      <td>35.014871</td>\n",
       "      <td>32.519612</td>\n",
       "      <td>123.000000</td>\n",
       "    </tr>\n",
       "    <tr>\n",
       "      <th>3</th>\n",
       "      <td>2015-08-20 03:48:26.819</td>\n",
       "      <td>35.014824</td>\n",
       "      <td>32.519654</td>\n",
       "      <td>120.500000</td>\n",
       "    </tr>\n",
       "    <tr>\n",
       "      <th>4</th>\n",
       "      <td>2015-08-20 03:48:27.828</td>\n",
       "      <td>35.014776</td>\n",
       "      <td>32.519689</td>\n",
       "      <td>118.900002</td>\n",
       "    </tr>\n",
       "  </tbody>\n",
       "</table>\n",
       "</div>"
      ],
      "text/plain": [
       "                      time        lat        lng      height\n",
       "0  2015-08-20 03:48:07.235  35.015021  32.519585  136.199997\n",
       "1  2015-08-20 03:48:24.734  35.014954  32.519606  126.599998\n",
       "2  2015-08-20 03:48:25.660  35.014871  32.519612  123.000000\n",
       "3  2015-08-20 03:48:26.819  35.014824  32.519654  120.500000\n",
       "4  2015-08-20 03:48:27.828  35.014776  32.519689  118.900002"
      ]
     },
     "execution_count": 125,
     "metadata": {},
     "output_type": "execute_result"
    }
   ],
   "source": [
    "df.head()"
   ]
  },
  {
   "cell_type": "code",
   "execution_count": 126,
   "metadata": {},
   "outputs": [
    {
     "data": {
      "text/plain": [
       "time       object\n",
       "lat       float64\n",
       "lng       float64\n",
       "height    float64\n",
       "dtype: object"
      ]
     },
     "execution_count": 126,
     "metadata": {},
     "output_type": "execute_result"
    }
   ],
   "source": [
    "df.dtypes"
   ]
  },
  {
   "cell_type": "code",
   "execution_count": 127,
   "metadata": {},
   "outputs": [],
   "source": [
    "df = pd.read_csv(fname, parse_dates=['time'])"
   ]
  },
  {
   "cell_type": "code",
   "execution_count": 128,
   "metadata": {},
   "outputs": [
    {
     "data": {
      "text/plain": [
       "time      datetime64[ns]\n",
       "lat              float64\n",
       "lng              float64\n",
       "height           float64\n",
       "dtype: object"
      ]
     },
     "execution_count": 128,
     "metadata": {},
     "output_type": "execute_result"
    }
   ],
   "source": [
    "df.dtypes"
   ]
  },
  {
   "cell_type": "code",
   "execution_count": 129,
   "metadata": {},
   "outputs": [
    {
     "data": {
      "text/plain": [
       "0      35.015021\n",
       "1      35.014954\n",
       "2      35.014871\n",
       "3      35.014824\n",
       "4      35.014776\n",
       "         ...    \n",
       "735    35.014387\n",
       "736    35.014355\n",
       "737    35.014279\n",
       "738    35.014264\n",
       "739    35.014212\n",
       "Name: lat, Length: 740, dtype: float64"
      ]
     },
     "execution_count": 129,
     "metadata": {},
     "output_type": "execute_result"
    }
   ],
   "source": [
    "df['lat']"
   ]
  },
  {
   "cell_type": "code",
   "execution_count": 130,
   "metadata": {},
   "outputs": [
    {
     "data": {
      "text/html": [
       "<div>\n",
       "<style scoped>\n",
       "    .dataframe tbody tr th:only-of-type {\n",
       "        vertical-align: middle;\n",
       "    }\n",
       "\n",
       "    .dataframe tbody tr th {\n",
       "        vertical-align: top;\n",
       "    }\n",
       "\n",
       "    .dataframe thead th {\n",
       "        text-align: right;\n",
       "    }\n",
       "</style>\n",
       "<table border=\"1\" class=\"dataframe\">\n",
       "  <thead>\n",
       "    <tr style=\"text-align: right;\">\n",
       "      <th></th>\n",
       "      <th>lat</th>\n",
       "      <th>lng</th>\n",
       "    </tr>\n",
       "  </thead>\n",
       "  <tbody>\n",
       "    <tr>\n",
       "      <th>0</th>\n",
       "      <td>35.015021</td>\n",
       "      <td>32.519585</td>\n",
       "    </tr>\n",
       "    <tr>\n",
       "      <th>1</th>\n",
       "      <td>35.014954</td>\n",
       "      <td>32.519606</td>\n",
       "    </tr>\n",
       "    <tr>\n",
       "      <th>2</th>\n",
       "      <td>35.014871</td>\n",
       "      <td>32.519612</td>\n",
       "    </tr>\n",
       "    <tr>\n",
       "      <th>3</th>\n",
       "      <td>35.014824</td>\n",
       "      <td>32.519654</td>\n",
       "    </tr>\n",
       "    <tr>\n",
       "      <th>4</th>\n",
       "      <td>35.014776</td>\n",
       "      <td>32.519689</td>\n",
       "    </tr>\n",
       "    <tr>\n",
       "      <th>5</th>\n",
       "      <td>35.014704</td>\n",
       "      <td>32.519691</td>\n",
       "    </tr>\n",
       "    <tr>\n",
       "      <th>6</th>\n",
       "      <td>35.014657</td>\n",
       "      <td>32.519734</td>\n",
       "    </tr>\n",
       "    <tr>\n",
       "      <th>7</th>\n",
       "      <td>35.014563</td>\n",
       "      <td>32.519719</td>\n",
       "    </tr>\n",
       "    <tr>\n",
       "      <th>8</th>\n",
       "      <td>35.014549</td>\n",
       "      <td>32.519694</td>\n",
       "    </tr>\n",
       "    <tr>\n",
       "      <th>9</th>\n",
       "      <td>35.014515</td>\n",
       "      <td>32.519625</td>\n",
       "    </tr>\n",
       "    <tr>\n",
       "      <th>10</th>\n",
       "      <td>35.014505</td>\n",
       "      <td>32.519599</td>\n",
       "    </tr>\n",
       "    <tr>\n",
       "      <th>11</th>\n",
       "      <td>35.014481</td>\n",
       "      <td>32.519514</td>\n",
       "    </tr>\n",
       "    <tr>\n",
       "      <th>12</th>\n",
       "      <td>35.014472</td>\n",
       "      <td>32.519486</td>\n",
       "    </tr>\n",
       "    <tr>\n",
       "      <th>13</th>\n",
       "      <td>35.014439</td>\n",
       "      <td>32.519405</td>\n",
       "    </tr>\n",
       "    <tr>\n",
       "      <th>14</th>\n",
       "      <td>35.014432</td>\n",
       "      <td>32.519379</td>\n",
       "    </tr>\n",
       "    <tr>\n",
       "      <th>15</th>\n",
       "      <td>35.014414</td>\n",
       "      <td>32.519309</td>\n",
       "    </tr>\n",
       "    <tr>\n",
       "      <th>16</th>\n",
       "      <td>35.014400</td>\n",
       "      <td>32.519287</td>\n",
       "    </tr>\n",
       "    <tr>\n",
       "      <th>17</th>\n",
       "      <td>35.014372</td>\n",
       "      <td>32.519211</td>\n",
       "    </tr>\n",
       "    <tr>\n",
       "      <th>18</th>\n",
       "      <td>35.014365</td>\n",
       "      <td>32.519187</td>\n",
       "    </tr>\n",
       "    <tr>\n",
       "      <th>19</th>\n",
       "      <td>35.014337</td>\n",
       "      <td>32.519106</td>\n",
       "    </tr>\n",
       "    <tr>\n",
       "      <th>20</th>\n",
       "      <td>35.014331</td>\n",
       "      <td>32.519084</td>\n",
       "    </tr>\n",
       "    <tr>\n",
       "      <th>21</th>\n",
       "      <td>35.014303</td>\n",
       "      <td>32.519009</td>\n",
       "    </tr>\n",
       "    <tr>\n",
       "      <th>22</th>\n",
       "      <td>35.014306</td>\n",
       "      <td>32.518989</td>\n",
       "    </tr>\n",
       "    <tr>\n",
       "      <th>23</th>\n",
       "      <td>35.014340</td>\n",
       "      <td>32.518916</td>\n",
       "    </tr>\n",
       "    <tr>\n",
       "      <th>24</th>\n",
       "      <td>35.013531</td>\n",
       "      <td>32.517636</td>\n",
       "    </tr>\n",
       "    <tr>\n",
       "      <th>25</th>\n",
       "      <td>35.013606</td>\n",
       "      <td>32.517589</td>\n",
       "    </tr>\n",
       "    <tr>\n",
       "      <th>26</th>\n",
       "      <td>35.013630</td>\n",
       "      <td>32.517574</td>\n",
       "    </tr>\n",
       "    <tr>\n",
       "      <th>27</th>\n",
       "      <td>35.013705</td>\n",
       "      <td>32.517529</td>\n",
       "    </tr>\n",
       "    <tr>\n",
       "      <th>28</th>\n",
       "      <td>35.013730</td>\n",
       "      <td>32.517512</td>\n",
       "    </tr>\n",
       "    <tr>\n",
       "      <th>29</th>\n",
       "      <td>35.013809</td>\n",
       "      <td>32.517459</td>\n",
       "    </tr>\n",
       "    <tr>\n",
       "      <th>...</th>\n",
       "      <td>...</td>\n",
       "      <td>...</td>\n",
       "    </tr>\n",
       "    <tr>\n",
       "      <th>710</th>\n",
       "      <td>35.015705</td>\n",
       "      <td>32.516157</td>\n",
       "    </tr>\n",
       "    <tr>\n",
       "      <th>711</th>\n",
       "      <td>35.015640</td>\n",
       "      <td>32.516211</td>\n",
       "    </tr>\n",
       "    <tr>\n",
       "      <th>712</th>\n",
       "      <td>35.015617</td>\n",
       "      <td>32.516225</td>\n",
       "    </tr>\n",
       "    <tr>\n",
       "      <th>713</th>\n",
       "      <td>35.015551</td>\n",
       "      <td>32.516278</td>\n",
       "    </tr>\n",
       "    <tr>\n",
       "      <th>714</th>\n",
       "      <td>35.015533</td>\n",
       "      <td>32.516301</td>\n",
       "    </tr>\n",
       "    <tr>\n",
       "      <th>715</th>\n",
       "      <td>35.015468</td>\n",
       "      <td>32.516361</td>\n",
       "    </tr>\n",
       "    <tr>\n",
       "      <th>716</th>\n",
       "      <td>35.015444</td>\n",
       "      <td>32.516380</td>\n",
       "    </tr>\n",
       "    <tr>\n",
       "      <th>717</th>\n",
       "      <td>35.015369</td>\n",
       "      <td>32.516442</td>\n",
       "    </tr>\n",
       "    <tr>\n",
       "      <th>718</th>\n",
       "      <td>35.015343</td>\n",
       "      <td>32.516462</td>\n",
       "    </tr>\n",
       "    <tr>\n",
       "      <th>719</th>\n",
       "      <td>35.015264</td>\n",
       "      <td>32.516517</td>\n",
       "    </tr>\n",
       "    <tr>\n",
       "      <th>720</th>\n",
       "      <td>35.015238</td>\n",
       "      <td>32.516537</td>\n",
       "    </tr>\n",
       "    <tr>\n",
       "      <th>721</th>\n",
       "      <td>35.015157</td>\n",
       "      <td>32.516592</td>\n",
       "    </tr>\n",
       "    <tr>\n",
       "      <th>722</th>\n",
       "      <td>35.015129</td>\n",
       "      <td>32.516610</td>\n",
       "    </tr>\n",
       "    <tr>\n",
       "      <th>723</th>\n",
       "      <td>35.015048</td>\n",
       "      <td>32.516665</td>\n",
       "    </tr>\n",
       "    <tr>\n",
       "      <th>724</th>\n",
       "      <td>35.015023</td>\n",
       "      <td>32.516683</td>\n",
       "    </tr>\n",
       "    <tr>\n",
       "      <th>725</th>\n",
       "      <td>35.014943</td>\n",
       "      <td>32.516736</td>\n",
       "    </tr>\n",
       "    <tr>\n",
       "      <th>726</th>\n",
       "      <td>35.014916</td>\n",
       "      <td>32.516754</td>\n",
       "    </tr>\n",
       "    <tr>\n",
       "      <th>727</th>\n",
       "      <td>35.014835</td>\n",
       "      <td>32.516800</td>\n",
       "    </tr>\n",
       "    <tr>\n",
       "      <th>728</th>\n",
       "      <td>35.014810</td>\n",
       "      <td>32.516818</td>\n",
       "    </tr>\n",
       "    <tr>\n",
       "      <th>729</th>\n",
       "      <td>35.014737</td>\n",
       "      <td>32.516873</td>\n",
       "    </tr>\n",
       "    <tr>\n",
       "      <th>730</th>\n",
       "      <td>35.014709</td>\n",
       "      <td>32.516889</td>\n",
       "    </tr>\n",
       "    <tr>\n",
       "      <th>731</th>\n",
       "      <td>35.014617</td>\n",
       "      <td>32.516933</td>\n",
       "    </tr>\n",
       "    <tr>\n",
       "      <th>732</th>\n",
       "      <td>35.014584</td>\n",
       "      <td>32.516945</td>\n",
       "    </tr>\n",
       "    <tr>\n",
       "      <th>733</th>\n",
       "      <td>35.014518</td>\n",
       "      <td>32.516971</td>\n",
       "    </tr>\n",
       "    <tr>\n",
       "      <th>734</th>\n",
       "      <td>35.014484</td>\n",
       "      <td>32.516984</td>\n",
       "    </tr>\n",
       "    <tr>\n",
       "      <th>735</th>\n",
       "      <td>35.014387</td>\n",
       "      <td>32.517020</td>\n",
       "    </tr>\n",
       "    <tr>\n",
       "      <th>736</th>\n",
       "      <td>35.014355</td>\n",
       "      <td>32.517035</td>\n",
       "    </tr>\n",
       "    <tr>\n",
       "      <th>737</th>\n",
       "      <td>35.014279</td>\n",
       "      <td>32.517087</td>\n",
       "    </tr>\n",
       "    <tr>\n",
       "      <th>738</th>\n",
       "      <td>35.014264</td>\n",
       "      <td>32.517098</td>\n",
       "    </tr>\n",
       "    <tr>\n",
       "      <th>739</th>\n",
       "      <td>35.014212</td>\n",
       "      <td>32.517142</td>\n",
       "    </tr>\n",
       "  </tbody>\n",
       "</table>\n",
       "<p>740 rows × 2 columns</p>\n",
       "</div>"
      ],
      "text/plain": [
       "           lat        lng\n",
       "0    35.015021  32.519585\n",
       "1    35.014954  32.519606\n",
       "2    35.014871  32.519612\n",
       "3    35.014824  32.519654\n",
       "4    35.014776  32.519689\n",
       "..         ...        ...\n",
       "735  35.014387  32.517020\n",
       "736  35.014355  32.517035\n",
       "737  35.014279  32.517087\n",
       "738  35.014264  32.517098\n",
       "739  35.014212  32.517142\n",
       "\n",
       "[740 rows x 2 columns]"
      ]
     },
     "execution_count": 130,
     "metadata": {},
     "output_type": "execute_result"
    }
   ],
   "source": [
    "df[['lat','lng']]"
   ]
  },
  {
   "cell_type": "code",
   "execution_count": 131,
   "metadata": {},
   "outputs": [
    {
     "data": {
      "text/plain": [
       "35.015021000000004"
      ]
     },
     "execution_count": 131,
     "metadata": {},
     "output_type": "execute_result"
    }
   ],
   "source": [
    "df['lat'][0]"
   ]
  },
  {
   "cell_type": "code",
   "execution_count": 132,
   "metadata": {},
   "outputs": [
    {
     "data": {
      "text/plain": [
       "time      2015-08-20 03:48:07.235000\n",
       "lat                           35.015\n",
       "lng                          32.5196\n",
       "height                         136.2\n",
       "Name: 0, dtype: object"
      ]
     },
     "execution_count": 132,
     "metadata": {},
     "output_type": "execute_result"
    }
   ],
   "source": [
    "df.loc[0]"
   ]
  },
  {
   "cell_type": "code",
   "execution_count": 133,
   "metadata": {},
   "outputs": [
    {
     "data": {
      "text/html": [
       "<div>\n",
       "<style scoped>\n",
       "    .dataframe tbody tr th:only-of-type {\n",
       "        vertical-align: middle;\n",
       "    }\n",
       "\n",
       "    .dataframe tbody tr th {\n",
       "        vertical-align: top;\n",
       "    }\n",
       "\n",
       "    .dataframe thead th {\n",
       "        text-align: right;\n",
       "    }\n",
       "</style>\n",
       "<table border=\"1\" class=\"dataframe\">\n",
       "  <thead>\n",
       "    <tr style=\"text-align: right;\">\n",
       "      <th></th>\n",
       "      <th>time</th>\n",
       "      <th>lat</th>\n",
       "      <th>lng</th>\n",
       "      <th>height</th>\n",
       "    </tr>\n",
       "  </thead>\n",
       "  <tbody>\n",
       "    <tr>\n",
       "      <th>0</th>\n",
       "      <td>2015-08-20 03:48:07.235</td>\n",
       "      <td>35.015021</td>\n",
       "      <td>32.519585</td>\n",
       "      <td>136.199997</td>\n",
       "    </tr>\n",
       "    <tr>\n",
       "      <th>1</th>\n",
       "      <td>2015-08-20 03:48:24.734</td>\n",
       "      <td>35.014954</td>\n",
       "      <td>32.519606</td>\n",
       "      <td>126.599998</td>\n",
       "    </tr>\n",
       "    <tr>\n",
       "      <th>2</th>\n",
       "      <td>2015-08-20 03:48:25.660</td>\n",
       "      <td>35.014871</td>\n",
       "      <td>32.519612</td>\n",
       "      <td>123.000000</td>\n",
       "    </tr>\n",
       "    <tr>\n",
       "      <th>3</th>\n",
       "      <td>2015-08-20 03:48:26.819</td>\n",
       "      <td>35.014824</td>\n",
       "      <td>32.519654</td>\n",
       "      <td>120.500000</td>\n",
       "    </tr>\n",
       "    <tr>\n",
       "      <th>4</th>\n",
       "      <td>2015-08-20 03:48:27.828</td>\n",
       "      <td>35.014776</td>\n",
       "      <td>32.519689</td>\n",
       "      <td>118.900002</td>\n",
       "    </tr>\n",
       "    <tr>\n",
       "      <th>5</th>\n",
       "      <td>2015-08-20 03:48:29.720</td>\n",
       "      <td>35.014704</td>\n",
       "      <td>32.519691</td>\n",
       "      <td>119.900002</td>\n",
       "    </tr>\n",
       "  </tbody>\n",
       "</table>\n",
       "</div>"
      ],
      "text/plain": [
       "                     time        lat        lng      height\n",
       "0 2015-08-20 03:48:07.235  35.015021  32.519585  136.199997\n",
       "1 2015-08-20 03:48:24.734  35.014954  32.519606  126.599998\n",
       "2 2015-08-20 03:48:25.660  35.014871  32.519612  123.000000\n",
       "3 2015-08-20 03:48:26.819  35.014824  32.519654  120.500000\n",
       "4 2015-08-20 03:48:27.828  35.014776  32.519689  118.900002\n",
       "5 2015-08-20 03:48:29.720  35.014704  32.519691  119.900002"
      ]
     },
     "execution_count": 133,
     "metadata": {},
     "output_type": "execute_result"
    }
   ],
   "source": [
    "df.loc[0:5]"
   ]
  },
  {
   "cell_type": "code",
   "execution_count": 134,
   "metadata": {},
   "outputs": [
    {
     "data": {
      "text/plain": [
       "RangeIndex(start=0, stop=740, step=1)"
      ]
     },
     "execution_count": 134,
     "metadata": {},
     "output_type": "execute_result"
    }
   ],
   "source": [
    "df.index"
   ]
  },
  {
   "cell_type": "code",
   "execution_count": 135,
   "metadata": {},
   "outputs": [],
   "source": [
    "import numpy as np"
   ]
  },
  {
   "cell_type": "code",
   "execution_count": 136,
   "metadata": {},
   "outputs": [],
   "source": [
    "df1 = pd.DataFrame(np.arange(10).reshape(5,2), columns=['x', 'y'], index=['a','b','c','d','e'])"
   ]
  },
  {
   "cell_type": "code",
   "execution_count": 137,
   "metadata": {},
   "outputs": [
    {
     "data": {
      "text/html": [
       "<div>\n",
       "<style scoped>\n",
       "    .dataframe tbody tr th:only-of-type {\n",
       "        vertical-align: middle;\n",
       "    }\n",
       "\n",
       "    .dataframe tbody tr th {\n",
       "        vertical-align: top;\n",
       "    }\n",
       "\n",
       "    .dataframe thead th {\n",
       "        text-align: right;\n",
       "    }\n",
       "</style>\n",
       "<table border=\"1\" class=\"dataframe\">\n",
       "  <thead>\n",
       "    <tr style=\"text-align: right;\">\n",
       "      <th></th>\n",
       "      <th>x</th>\n",
       "      <th>y</th>\n",
       "    </tr>\n",
       "  </thead>\n",
       "  <tbody>\n",
       "    <tr>\n",
       "      <th>a</th>\n",
       "      <td>0</td>\n",
       "      <td>1</td>\n",
       "    </tr>\n",
       "    <tr>\n",
       "      <th>b</th>\n",
       "      <td>2</td>\n",
       "      <td>3</td>\n",
       "    </tr>\n",
       "    <tr>\n",
       "      <th>c</th>\n",
       "      <td>4</td>\n",
       "      <td>5</td>\n",
       "    </tr>\n",
       "    <tr>\n",
       "      <th>d</th>\n",
       "      <td>6</td>\n",
       "      <td>7</td>\n",
       "    </tr>\n",
       "    <tr>\n",
       "      <th>e</th>\n",
       "      <td>8</td>\n",
       "      <td>9</td>\n",
       "    </tr>\n",
       "  </tbody>\n",
       "</table>\n",
       "</div>"
      ],
      "text/plain": [
       "   x  y\n",
       "a  0  1\n",
       "b  2  3\n",
       "c  4  5\n",
       "d  6  7\n",
       "e  8  9"
      ]
     },
     "execution_count": 137,
     "metadata": {},
     "output_type": "execute_result"
    }
   ],
   "source": [
    "df1"
   ]
  },
  {
   "cell_type": "code",
   "execution_count": 138,
   "metadata": {},
   "outputs": [
    {
     "data": {
      "text/plain": [
       "RangeIndex(start=0, stop=740, step=1)"
      ]
     },
     "execution_count": 138,
     "metadata": {},
     "output_type": "execute_result"
    }
   ],
   "source": [
    "df.index"
   ]
  },
  {
   "cell_type": "code",
   "execution_count": 139,
   "metadata": {},
   "outputs": [],
   "source": [
    "df.index = df['time']"
   ]
  },
  {
   "cell_type": "code",
   "execution_count": 140,
   "metadata": {},
   "outputs": [
    {
     "data": {
      "text/plain": [
       "DatetimeIndex(['2015-08-20 03:48:07.235000', '2015-08-20 03:48:24.734000',\n",
       "               '2015-08-20 03:48:25.660000', '2015-08-20 03:48:26.819000',\n",
       "               '2015-08-20 03:48:27.828000', '2015-08-20 03:48:29.720000',\n",
       "               '2015-08-20 03:48:30.669000', '2015-08-20 03:48:33.793000',\n",
       "               '2015-08-20 03:48:34.869000', '2015-08-20 03:48:37.708000',\n",
       "               ...\n",
       "               '2015-08-20 04:20:18.844000', '2015-08-20 04:20:21.996000',\n",
       "               '2015-08-20 04:20:22.897000', '2015-08-20 04:20:24.905000',\n",
       "               '2015-08-20 04:20:25.835000', '2015-08-20 04:20:28.982000',\n",
       "               '2015-08-20 04:20:29.923000', '2015-08-20 04:20:32.863000',\n",
       "               '2015-08-20 04:20:33.994000', '2015-08-20 04:20:42.329000'],\n",
       "              dtype='datetime64[ns]', name='time', length=740, freq=None)"
      ]
     },
     "execution_count": 140,
     "metadata": {},
     "output_type": "execute_result"
    }
   ],
   "source": [
    "df.index"
   ]
  },
  {
   "cell_type": "code",
   "execution_count": 141,
   "metadata": {},
   "outputs": [
    {
     "data": {
      "text/html": [
       "<div>\n",
       "<style scoped>\n",
       "    .dataframe tbody tr th:only-of-type {\n",
       "        vertical-align: middle;\n",
       "    }\n",
       "\n",
       "    .dataframe tbody tr th {\n",
       "        vertical-align: top;\n",
       "    }\n",
       "\n",
       "    .dataframe thead th {\n",
       "        text-align: right;\n",
       "    }\n",
       "</style>\n",
       "<table border=\"1\" class=\"dataframe\">\n",
       "  <thead>\n",
       "    <tr style=\"text-align: right;\">\n",
       "      <th></th>\n",
       "      <th>time</th>\n",
       "      <th>lat</th>\n",
       "      <th>lng</th>\n",
       "      <th>height</th>\n",
       "    </tr>\n",
       "    <tr>\n",
       "      <th>time</th>\n",
       "      <th></th>\n",
       "      <th></th>\n",
       "      <th></th>\n",
       "      <th></th>\n",
       "    </tr>\n",
       "  </thead>\n",
       "  <tbody>\n",
       "    <tr>\n",
       "      <th>2015-08-20 03:48:07.235</th>\n",
       "      <td>2015-08-20 03:48:07.235</td>\n",
       "      <td>35.015021</td>\n",
       "      <td>32.519585</td>\n",
       "      <td>136.199997</td>\n",
       "    </tr>\n",
       "    <tr>\n",
       "      <th>2015-08-20 03:48:24.734</th>\n",
       "      <td>2015-08-20 03:48:24.734</td>\n",
       "      <td>35.014954</td>\n",
       "      <td>32.519606</td>\n",
       "      <td>126.599998</td>\n",
       "    </tr>\n",
       "    <tr>\n",
       "      <th>2015-08-20 03:48:25.660</th>\n",
       "      <td>2015-08-20 03:48:25.660</td>\n",
       "      <td>35.014871</td>\n",
       "      <td>32.519612</td>\n",
       "      <td>123.000000</td>\n",
       "    </tr>\n",
       "    <tr>\n",
       "      <th>2015-08-20 03:48:26.819</th>\n",
       "      <td>2015-08-20 03:48:26.819</td>\n",
       "      <td>35.014824</td>\n",
       "      <td>32.519654</td>\n",
       "      <td>120.500000</td>\n",
       "    </tr>\n",
       "    <tr>\n",
       "      <th>2015-08-20 03:48:27.828</th>\n",
       "      <td>2015-08-20 03:48:27.828</td>\n",
       "      <td>35.014776</td>\n",
       "      <td>32.519689</td>\n",
       "      <td>118.900002</td>\n",
       "    </tr>\n",
       "  </tbody>\n",
       "</table>\n",
       "</div>"
      ],
      "text/plain": [
       "                                           time        lat        lng  \\\n",
       "time                                                                    \n",
       "2015-08-20 03:48:07.235 2015-08-20 03:48:07.235  35.015021  32.519585   \n",
       "2015-08-20 03:48:24.734 2015-08-20 03:48:24.734  35.014954  32.519606   \n",
       "2015-08-20 03:48:25.660 2015-08-20 03:48:25.660  35.014871  32.519612   \n",
       "2015-08-20 03:48:26.819 2015-08-20 03:48:26.819  35.014824  32.519654   \n",
       "2015-08-20 03:48:27.828 2015-08-20 03:48:27.828  35.014776  32.519689   \n",
       "\n",
       "                             height  \n",
       "time                                 \n",
       "2015-08-20 03:48:07.235  136.199997  \n",
       "2015-08-20 03:48:24.734  126.599998  \n",
       "2015-08-20 03:48:25.660  123.000000  \n",
       "2015-08-20 03:48:26.819  120.500000  \n",
       "2015-08-20 03:48:27.828  118.900002  "
      ]
     },
     "execution_count": 141,
     "metadata": {},
     "output_type": "execute_result"
    }
   ],
   "source": [
    "df.head()"
   ]
  },
  {
   "cell_type": "code",
   "execution_count": 142,
   "metadata": {},
   "outputs": [],
   "source": [
    "df.index = df['lat']"
   ]
  },
  {
   "cell_type": "code",
   "execution_count": 143,
   "metadata": {},
   "outputs": [
    {
     "data": {
      "text/html": [
       "<div>\n",
       "<style scoped>\n",
       "    .dataframe tbody tr th:only-of-type {\n",
       "        vertical-align: middle;\n",
       "    }\n",
       "\n",
       "    .dataframe tbody tr th {\n",
       "        vertical-align: top;\n",
       "    }\n",
       "\n",
       "    .dataframe thead th {\n",
       "        text-align: right;\n",
       "    }\n",
       "</style>\n",
       "<table border=\"1\" class=\"dataframe\">\n",
       "  <thead>\n",
       "    <tr style=\"text-align: right;\">\n",
       "      <th></th>\n",
       "      <th>time</th>\n",
       "      <th>lat</th>\n",
       "      <th>lng</th>\n",
       "      <th>height</th>\n",
       "    </tr>\n",
       "    <tr>\n",
       "      <th>lat</th>\n",
       "      <th></th>\n",
       "      <th></th>\n",
       "      <th></th>\n",
       "      <th></th>\n",
       "    </tr>\n",
       "  </thead>\n",
       "  <tbody>\n",
       "    <tr>\n",
       "      <th>35.015021</th>\n",
       "      <td>2015-08-20 03:48:07.235</td>\n",
       "      <td>35.015021</td>\n",
       "      <td>32.519585</td>\n",
       "      <td>136.199997</td>\n",
       "    </tr>\n",
       "    <tr>\n",
       "      <th>35.014954</th>\n",
       "      <td>2015-08-20 03:48:24.734</td>\n",
       "      <td>35.014954</td>\n",
       "      <td>32.519606</td>\n",
       "      <td>126.599998</td>\n",
       "    </tr>\n",
       "    <tr>\n",
       "      <th>35.014871</th>\n",
       "      <td>2015-08-20 03:48:25.660</td>\n",
       "      <td>35.014871</td>\n",
       "      <td>32.519612</td>\n",
       "      <td>123.000000</td>\n",
       "    </tr>\n",
       "    <tr>\n",
       "      <th>35.014824</th>\n",
       "      <td>2015-08-20 03:48:26.819</td>\n",
       "      <td>35.014824</td>\n",
       "      <td>32.519654</td>\n",
       "      <td>120.500000</td>\n",
       "    </tr>\n",
       "    <tr>\n",
       "      <th>35.014776</th>\n",
       "      <td>2015-08-20 03:48:27.828</td>\n",
       "      <td>35.014776</td>\n",
       "      <td>32.519689</td>\n",
       "      <td>118.900002</td>\n",
       "    </tr>\n",
       "  </tbody>\n",
       "</table>\n",
       "</div>"
      ],
      "text/plain": [
       "                             time        lat        lng      height\n",
       "lat                                                                \n",
       "35.015021 2015-08-20 03:48:07.235  35.015021  32.519585  136.199997\n",
       "35.014954 2015-08-20 03:48:24.734  35.014954  32.519606  126.599998\n",
       "35.014871 2015-08-20 03:48:25.660  35.014871  32.519612  123.000000\n",
       "35.014824 2015-08-20 03:48:26.819  35.014824  32.519654  120.500000\n",
       "35.014776 2015-08-20 03:48:27.828  35.014776  32.519689  118.900002"
      ]
     },
     "execution_count": 143,
     "metadata": {},
     "output_type": "execute_result"
    }
   ],
   "source": [
    "df.head()"
   ]
  },
  {
   "cell_type": "code",
   "execution_count": 144,
   "metadata": {},
   "outputs": [
    {
     "data": {
      "text/plain": [
       "Float64Index([35.015021000000004, 35.014953999999996,          35.014871,\n",
       "                       35.014824,          35.014776, 35.014703999999995,\n",
       "                       35.014657,          35.014563,          35.014549,\n",
       "                       35.014515,\n",
       "              ...\n",
       "                       35.014709,          35.014617,          35.014584,\n",
       "                       35.014518,          35.014484,          35.014387,\n",
       "                       35.014355, 35.014278999999995, 35.014264000000004,\n",
       "                       35.014212],\n",
       "             dtype='float64', name='lat', length=740)"
      ]
     },
     "execution_count": 144,
     "metadata": {},
     "output_type": "execute_result"
    }
   ],
   "source": [
    "df.index"
   ]
  },
  {
   "cell_type": "code",
   "execution_count": 145,
   "metadata": {},
   "outputs": [],
   "source": [
    "df.index = df['time']"
   ]
  },
  {
   "cell_type": "code",
   "execution_count": 146,
   "metadata": {},
   "outputs": [
    {
     "data": {
      "text/plain": [
       "DatetimeIndex(['2015-08-20 03:48:07.235000', '2015-08-20 03:48:24.734000',\n",
       "               '2015-08-20 03:48:25.660000', '2015-08-20 03:48:26.819000',\n",
       "               '2015-08-20 03:48:27.828000', '2015-08-20 03:48:29.720000',\n",
       "               '2015-08-20 03:48:30.669000', '2015-08-20 03:48:33.793000',\n",
       "               '2015-08-20 03:48:34.869000', '2015-08-20 03:48:37.708000',\n",
       "               ...\n",
       "               '2015-08-20 04:20:18.844000', '2015-08-20 04:20:21.996000',\n",
       "               '2015-08-20 04:20:22.897000', '2015-08-20 04:20:24.905000',\n",
       "               '2015-08-20 04:20:25.835000', '2015-08-20 04:20:28.982000',\n",
       "               '2015-08-20 04:20:29.923000', '2015-08-20 04:20:32.863000',\n",
       "               '2015-08-20 04:20:33.994000', '2015-08-20 04:20:42.329000'],\n",
       "              dtype='datetime64[ns]', name='time', length=740, freq=None)"
      ]
     },
     "execution_count": 146,
     "metadata": {},
     "output_type": "execute_result"
    }
   ],
   "source": [
    "df.index"
   ]
  },
  {
   "cell_type": "code",
   "execution_count": 147,
   "metadata": {},
   "outputs": [],
   "source": [
    "import pytz"
   ]
  },
  {
   "cell_type": "code",
   "execution_count": 148,
   "metadata": {},
   "outputs": [],
   "source": [
    "ts = df.index[0]"
   ]
  },
  {
   "cell_type": "code",
   "execution_count": 149,
   "metadata": {},
   "outputs": [
    {
     "data": {
      "text/plain": [
       "Timestamp('2015-08-20 03:48:07.235000+0000', tz='UTC')"
      ]
     },
     "execution_count": 149,
     "metadata": {},
     "output_type": "execute_result"
    }
   ],
   "source": [
    "ts.tz_localize(pytz.UTC)"
   ]
  },
  {
   "cell_type": "code",
   "execution_count": 150,
   "metadata": {},
   "outputs": [
    {
     "data": {
      "text/plain": [
       "Timestamp('2015-08-20 09:18:07.235000+0530', tz='Asia/Kolkata')"
      ]
     },
     "execution_count": 150,
     "metadata": {},
     "output_type": "execute_result"
    }
   ],
   "source": [
    "ts.tz_localize(pytz.UTC).tz_convert(pytz.timezone('Asia/Kolkata'))"
   ]
  },
  {
   "cell_type": "code",
   "execution_count": 151,
   "metadata": {},
   "outputs": [],
   "source": [
    "df.index = df.index.tz_localize(pytz.UTC).tz_convert(pytz.timezone('Asia/Kolkata'))"
   ]
  },
  {
   "cell_type": "code",
   "execution_count": 152,
   "metadata": {},
   "outputs": [
    {
     "data": {
      "text/plain": [
       "DatetimeIndex(['2015-08-20 09:18:07.235000+05:30',\n",
       "               '2015-08-20 09:18:24.734000+05:30',\n",
       "               '2015-08-20 09:18:25.660000+05:30',\n",
       "               '2015-08-20 09:18:26.819000+05:30',\n",
       "               '2015-08-20 09:18:27.828000+05:30',\n",
       "               '2015-08-20 09:18:29.720000+05:30',\n",
       "               '2015-08-20 09:18:30.669000+05:30',\n",
       "               '2015-08-20 09:18:33.793000+05:30',\n",
       "               '2015-08-20 09:18:34.869000+05:30',\n",
       "               '2015-08-20 09:18:37.708000+05:30'],\n",
       "              dtype='datetime64[ns, Asia/Kolkata]', name='time', freq=None)"
      ]
     },
     "execution_count": 152,
     "metadata": {},
     "output_type": "execute_result"
    }
   ],
   "source": [
    "df.index[:10]"
   ]
  },
  {
   "cell_type": "code",
   "execution_count": 153,
   "metadata": {},
   "outputs": [
    {
     "data": {
      "text/plain": [
       "'C:\\\\Users\\\\the name oofn'"
      ]
     },
     "execution_count": 153,
     "metadata": {},
     "output_type": "execute_result"
    }
   ],
   "source": [
    "%pwd"
   ]
  },
  {
   "cell_type": "code",
   "execution_count": 154,
   "metadata": {},
   "outputs": [],
   "source": [
    "import sys"
   ]
  },
  {
   "cell_type": "code",
   "execution_count": 155,
   "metadata": {},
   "outputs": [
    {
     "data": {
      "text/plain": [
       "['C:\\\\Users\\\\the name oofn',\n",
       " 'C:\\\\Users\\\\the name oofn\\\\Anaconda3\\\\envs\\\\Env-3.7\\\\python37.zip',\n",
       " 'C:\\\\Users\\\\the name oofn\\\\Anaconda3\\\\envs\\\\Env-3.7\\\\DLLs',\n",
       " 'C:\\\\Users\\\\the name oofn\\\\Anaconda3\\\\envs\\\\Env-3.7\\\\lib',\n",
       " 'C:\\\\Users\\\\the name oofn\\\\Anaconda3\\\\envs\\\\Env-3.7',\n",
       " '',\n",
       " 'C:\\\\Users\\\\the name oofn\\\\Anaconda3\\\\envs\\\\Env-3.7\\\\lib\\\\site-packages',\n",
       " 'C:\\\\Users\\\\the name oofn\\\\Anaconda3\\\\envs\\\\Env-3.7\\\\lib\\\\site-packages\\\\IPython\\\\extensions',\n",
       " 'C:\\\\Users\\\\the name oofn\\\\.ipython']"
      ]
     },
     "execution_count": 155,
     "metadata": {},
     "output_type": "execute_result"
    }
   ],
   "source": [
    "sys.path"
   ]
  },
  {
   "cell_type": "code",
   "execution_count": 156,
   "metadata": {},
   "outputs": [],
   "source": [
    "import geo"
   ]
  },
  {
   "cell_type": "code",
   "execution_count": 157,
   "metadata": {},
   "outputs": [
    {
     "data": {
      "text/plain": [
       "\u001b[1;31mType:\u001b[0m        module\n",
       "\u001b[1;31mString form:\u001b[0m <module 'geo' from 'C:\\\\Users\\\\the name oofn\\\\Anaconda3\\\\envs\\\\Env-3.7\\\\geo.py'>\n",
       "\u001b[1;31mFile:\u001b[0m        c:\\users\\the name oofn\\anaconda3\\envs\\env-3.7\\geo.py\n",
       "\u001b[1;31mSource:\u001b[0m     \n",
       "\u001b[1;34m\"\"\"Distance on a circle\"\"\"\u001b[0m\u001b[1;33m\n",
       "\u001b[0m\u001b[1;33m\n",
       "\u001b[0m\u001b[1;32mimport\u001b[0m \u001b[0mnumpy\u001b[0m \u001b[1;32mas\u001b[0m \u001b[0mnp\u001b[0m\u001b[1;33m\n",
       "\u001b[0m\u001b[1;33m\n",
       "\u001b[0m\u001b[1;33m\n",
       "\u001b[0m\u001b[1;32mdef\u001b[0m \u001b[0mcircle_dist\u001b[0m\u001b[1;33m(\u001b[0m\u001b[0mlat1\u001b[0m\u001b[1;33m,\u001b[0m \u001b[0mlng1\u001b[0m\u001b[1;33m,\u001b[0m \u001b[0mlat2\u001b[0m\u001b[1;33m,\u001b[0m \u001b[0mlng2\u001b[0m\u001b[1;33m)\u001b[0m\u001b[1;33m:\u001b[0m\u001b[1;33m\n",
       "\u001b[0m    \u001b[1;34m\"\"\"\n",
       "    Distance on a circle (in km)\n",
       "\n",
       "    Parameters\n",
       "    ----------\n",
       "    lat1, lng1, lat2, lng2: float or array of float\n",
       "\n",
       "    Returns\n",
       "    -------\n",
       "    distance:\n",
       "      distance from ``(lat1, lng1)`` to ``(lat2, lng2)`` in kilometers.\n",
       "    \"\"\"\u001b[0m\u001b[1;33m\n",
       "\u001b[0m    \u001b[0mphi1\u001b[0m \u001b[1;33m=\u001b[0m \u001b[0mnp\u001b[0m\u001b[1;33m.\u001b[0m\u001b[0mdeg2rad\u001b[0m\u001b[1;33m(\u001b[0m\u001b[1;36m90\u001b[0m \u001b[1;33m-\u001b[0m \u001b[0mlat1\u001b[0m\u001b[1;33m)\u001b[0m\u001b[1;33m\n",
       "\u001b[0m    \u001b[0mphi2\u001b[0m \u001b[1;33m=\u001b[0m \u001b[0mnp\u001b[0m\u001b[1;33m.\u001b[0m\u001b[0mdeg2rad\u001b[0m\u001b[1;33m(\u001b[0m\u001b[1;36m90\u001b[0m \u001b[1;33m-\u001b[0m \u001b[0mlat2\u001b[0m\u001b[1;33m)\u001b[0m\u001b[1;33m\n",
       "\u001b[0m\u001b[1;33m\n",
       "\u001b[0m    \u001b[0mtheta1\u001b[0m \u001b[1;33m=\u001b[0m \u001b[0mnp\u001b[0m\u001b[1;33m.\u001b[0m\u001b[0mdeg2rad\u001b[0m\u001b[1;33m(\u001b[0m\u001b[0mlng1\u001b[0m\u001b[1;33m)\u001b[0m\u001b[1;33m\n",
       "\u001b[0m    \u001b[0mtheta2\u001b[0m \u001b[1;33m=\u001b[0m \u001b[0mnp\u001b[0m\u001b[1;33m.\u001b[0m\u001b[0mdeg2rad\u001b[0m\u001b[1;33m(\u001b[0m\u001b[0mlng2\u001b[0m\u001b[1;33m)\u001b[0m\u001b[1;33m\n",
       "\u001b[0m\u001b[1;33m\n",
       "\u001b[0m    \u001b[0mcos\u001b[0m \u001b[1;33m=\u001b[0m \u001b[1;33m(\u001b[0m\u001b[0mnp\u001b[0m\u001b[1;33m.\u001b[0m\u001b[0msin\u001b[0m\u001b[1;33m(\u001b[0m\u001b[0mphi1\u001b[0m\u001b[1;33m)\u001b[0m \u001b[1;33m*\u001b[0m \u001b[0mnp\u001b[0m\u001b[1;33m.\u001b[0m\u001b[0msin\u001b[0m\u001b[1;33m(\u001b[0m\u001b[0mphi2\u001b[0m\u001b[1;33m)\u001b[0m \u001b[1;33m*\u001b[0m \u001b[0mnp\u001b[0m\u001b[1;33m.\u001b[0m\u001b[0mcos\u001b[0m\u001b[1;33m(\u001b[0m\u001b[0mtheta1\u001b[0m \u001b[1;33m-\u001b[0m \u001b[0mtheta2\u001b[0m\u001b[1;33m)\u001b[0m \u001b[1;33m+\u001b[0m\u001b[1;33m\n",
       "\u001b[0m           \u001b[0mnp\u001b[0m\u001b[1;33m.\u001b[0m\u001b[0mcos\u001b[0m\u001b[1;33m(\u001b[0m\u001b[0mphi1\u001b[0m\u001b[1;33m)\u001b[0m \u001b[1;33m*\u001b[0m \u001b[0mnp\u001b[0m\u001b[1;33m.\u001b[0m\u001b[0mcos\u001b[0m\u001b[1;33m(\u001b[0m\u001b[0mphi2\u001b[0m\u001b[1;33m)\u001b[0m\u001b[1;33m)\u001b[0m\u001b[1;33m\n",
       "\u001b[0m    \u001b[0marc\u001b[0m \u001b[1;33m=\u001b[0m \u001b[0mnp\u001b[0m\u001b[1;33m.\u001b[0m\u001b[0marccos\u001b[0m\u001b[1;33m(\u001b[0m\u001b[0mcos\u001b[0m\u001b[1;33m)\u001b[0m\u001b[1;33m\n",
       "\u001b[0m    \u001b[1;32mreturn\u001b[0m \u001b[0marc\u001b[0m \u001b[1;33m*\u001b[0m \u001b[1;36m6373\u001b[0m  \u001b[1;31m# Earth radius in km\u001b[0m\u001b[1;33m\u001b[0m\u001b[1;33m\u001b[0m\u001b[0m\n"
      ]
     },
     "metadata": {},
     "output_type": "display_data"
    }
   ],
   "source": [
    "??geo"
   ]
  },
  {
   "cell_type": "code",
   "execution_count": 158,
   "metadata": {},
   "outputs": [],
   "source": [
    "from geo import circle_dist"
   ]
  },
  {
   "cell_type": "code",
   "execution_count": 159,
   "metadata": {},
   "outputs": [],
   "source": [
    "lat1, lng1 = df.iloc[0].lat, df.iloc[0].lng\n",
    "lat2, lng2 = df.iloc[1].lat, df.iloc[1].lng"
   ]
  },
  {
   "cell_type": "code",
   "execution_count": 160,
   "metadata": {},
   "outputs": [
    {
     "data": {
      "text/plain": [
       "0.007693931535344109"
      ]
     },
     "execution_count": 160,
     "metadata": {},
     "output_type": "execute_result"
    }
   ],
   "source": [
    "circle_dist(lat1, lng1, lat2, lng2)"
   ]
  },
  {
   "cell_type": "code",
   "execution_count": 161,
   "metadata": {},
   "outputs": [],
   "source": [
    "s = pd.Series(np.arange(5))"
   ]
  },
  {
   "cell_type": "code",
   "execution_count": 162,
   "metadata": {},
   "outputs": [
    {
     "data": {
      "text/plain": [
       "0    0\n",
       "1    1\n",
       "2    2\n",
       "3    3\n",
       "4    4\n",
       "dtype: int32"
      ]
     },
     "execution_count": 162,
     "metadata": {},
     "output_type": "execute_result"
    }
   ],
   "source": [
    "s"
   ]
  },
  {
   "cell_type": "code",
   "execution_count": 163,
   "metadata": {},
   "outputs": [
    {
     "data": {
      "text/plain": [
       "0    NaN\n",
       "1    0.0\n",
       "2    1.0\n",
       "3    2.0\n",
       "4    3.0\n",
       "dtype: float64"
      ]
     },
     "execution_count": 163,
     "metadata": {},
     "output_type": "execute_result"
    }
   ],
   "source": [
    "s.shift()"
   ]
  },
  {
   "cell_type": "code",
   "execution_count": 164,
   "metadata": {},
   "outputs": [
    {
     "data": {
      "text/plain": [
       "0    1.0\n",
       "1    2.0\n",
       "2    3.0\n",
       "3    4.0\n",
       "4    NaN\n",
       "dtype: float64"
      ]
     },
     "execution_count": 164,
     "metadata": {},
     "output_type": "execute_result"
    }
   ],
   "source": [
    "s.shift(-1)"
   ]
  },
  {
   "cell_type": "code",
   "execution_count": 165,
   "metadata": {},
   "outputs": [
    {
     "data": {
      "text/plain": [
       "0    NaN\n",
       "1    NaN\n",
       "2    0.0\n",
       "3    1.0\n",
       "4    2.0\n",
       "dtype: float64"
      ]
     },
     "execution_count": 165,
     "metadata": {},
     "output_type": "execute_result"
    }
   ],
   "source": [
    "s.shift(2)"
   ]
  },
  {
   "cell_type": "code",
   "execution_count": 166,
   "metadata": {},
   "outputs": [],
   "source": [
    "dist = circle_dist(df['lat'], df['lng'], df['lat'].shift(), df['lng'].shift())"
   ]
  },
  {
   "cell_type": "code",
   "execution_count": 167,
   "metadata": {},
   "outputs": [
    {
     "data": {
      "text/plain": [
       "time\n",
       "2015-08-20 09:18:07.235000+05:30         NaN\n",
       "2015-08-20 09:18:24.734000+05:30    0.007694\n",
       "2015-08-20 09:18:25.660000+05:30    0.009248\n",
       "2015-08-20 09:18:26.819000+05:30    0.006479\n",
       "2015-08-20 09:18:27.828000+05:30    0.006219\n",
       "2015-08-20 09:18:29.720000+05:30    0.008010\n",
       "2015-08-20 09:18:30.669000+05:30    0.006533\n",
       "2015-08-20 09:18:33.793000+05:30    0.010545\n",
       "2015-08-20 09:18:34.869000+05:30    0.002759\n",
       "2015-08-20 09:18:37.708000+05:30    0.007336\n",
       "dtype: float64"
      ]
     },
     "execution_count": 167,
     "metadata": {},
     "output_type": "execute_result"
    }
   ],
   "source": [
    "dist[:10]"
   ]
  },
  {
   "cell_type": "code",
   "execution_count": 168,
   "metadata": {},
   "outputs": [
    {
     "data": {
      "text/plain": [
       "4.688135968432568"
      ]
     },
     "execution_count": 168,
     "metadata": {},
     "output_type": "execute_result"
    }
   ],
   "source": [
    "dist.sum()"
   ]
  },
  {
   "cell_type": "code",
   "execution_count": 169,
   "metadata": {},
   "outputs": [],
   "source": [
    "dt = df['time'] - df['time'].shift()"
   ]
  },
  {
   "cell_type": "code",
   "execution_count": 170,
   "metadata": {},
   "outputs": [
    {
     "data": {
      "text/plain": [
       "time\n",
       "2015-08-20 09:18:07.235000+05:30               NaT\n",
       "2015-08-20 09:18:24.734000+05:30   00:00:17.499000\n",
       "2015-08-20 09:18:25.660000+05:30   00:00:00.926000\n",
       "2015-08-20 09:18:26.819000+05:30   00:00:01.159000\n",
       "2015-08-20 09:18:27.828000+05:30   00:00:01.009000\n",
       "2015-08-20 09:18:29.720000+05:30   00:00:01.892000\n",
       "2015-08-20 09:18:30.669000+05:30   00:00:00.949000\n",
       "2015-08-20 09:18:33.793000+05:30   00:00:03.124000\n",
       "2015-08-20 09:18:34.869000+05:30   00:00:01.076000\n",
       "2015-08-20 09:18:37.708000+05:30   00:00:02.839000\n",
       "Name: time, dtype: timedelta64[ns]"
      ]
     },
     "execution_count": 170,
     "metadata": {},
     "output_type": "execute_result"
    }
   ],
   "source": [
    "dt[:10]"
   ]
  },
  {
   "cell_type": "code",
   "execution_count": 171,
   "metadata": {},
   "outputs": [
    {
     "data": {
      "text/plain": [
       "Timedelta('0 days 00:32:35.094000')"
      ]
     },
     "execution_count": 171,
     "metadata": {},
     "output_type": "execute_result"
    }
   ],
   "source": [
    "dt.sum()"
   ]
  },
  {
   "cell_type": "code",
   "execution_count": 172,
   "metadata": {},
   "outputs": [
    {
     "data": {
      "text/plain": [
       "17.499"
      ]
     },
     "execution_count": 172,
     "metadata": {},
     "output_type": "execute_result"
    }
   ],
   "source": [
    "dt[1].total_seconds()"
   ]
  },
  {
   "cell_type": "code",
   "execution_count": 173,
   "metadata": {},
   "outputs": [
    {
     "data": {
      "text/plain": [
       "17.499"
      ]
     },
     "execution_count": 173,
     "metadata": {},
     "output_type": "execute_result"
    }
   ],
   "source": [
    "dt[1]/ np.timedelta64(1,'s')"
   ]
  },
  {
   "cell_type": "code",
   "execution_count": 174,
   "metadata": {},
   "outputs": [],
   "source": [
    "speed = dist / (dt/np.timedelta64(1, 'h'))"
   ]
  },
  {
   "cell_type": "code",
   "execution_count": 175,
   "metadata": {},
   "outputs": [
    {
     "data": {
      "text/plain": [
       "time\n",
       "2015-08-20 09:18:07.235000+05:30          NaN\n",
       "2015-08-20 09:18:24.734000+05:30     1.582842\n",
       "2015-08-20 09:18:25.660000+05:30    35.954340\n",
       "2015-08-20 09:18:26.819000+05:30    20.123165\n",
       "2015-08-20 09:18:27.828000+05:30    22.187213\n",
       "2015-08-20 09:18:29.720000+05:30    15.241680\n",
       "2015-08-20 09:18:30.669000+05:30    24.783839\n",
       "2015-08-20 09:18:33.793000+05:30    12.151207\n",
       "2015-08-20 09:18:34.869000+05:30     9.230505\n",
       "2015-08-20 09:18:37.708000+05:30     9.302060\n",
       "dtype: float64"
      ]
     },
     "execution_count": 175,
     "metadata": {},
     "output_type": "execute_result"
    }
   ],
   "source": [
    "speed[:10]"
   ]
  },
  {
   "cell_type": "markdown",
   "metadata": {},
   "source": [
    "## Resampling"
   ]
  },
  {
   "cell_type": "code",
   "execution_count": 176,
   "metadata": {},
   "outputs": [],
   "source": [
    "df['dist'] = dist\n",
    "df['dt'] = dt"
   ]
  },
  {
   "cell_type": "code",
   "execution_count": 177,
   "metadata": {},
   "outputs": [],
   "source": [
    "df1m = df.resample('1min').sum()"
   ]
  },
  {
   "cell_type": "code",
   "execution_count": 178,
   "metadata": {},
   "outputs": [
    {
     "data": {
      "text/plain": [
       "DatetimeIndex(['2015-08-20 09:18:00+05:30', '2015-08-20 09:19:00+05:30',\n",
       "               '2015-08-20 09:20:00+05:30', '2015-08-20 09:21:00+05:30',\n",
       "               '2015-08-20 09:22:00+05:30', '2015-08-20 09:23:00+05:30',\n",
       "               '2015-08-20 09:24:00+05:30', '2015-08-20 09:25:00+05:30',\n",
       "               '2015-08-20 09:26:00+05:30', '2015-08-20 09:27:00+05:30',\n",
       "               '2015-08-20 09:28:00+05:30', '2015-08-20 09:29:00+05:30',\n",
       "               '2015-08-20 09:30:00+05:30', '2015-08-20 09:31:00+05:30',\n",
       "               '2015-08-20 09:32:00+05:30', '2015-08-20 09:33:00+05:30',\n",
       "               '2015-08-20 09:34:00+05:30', '2015-08-20 09:35:00+05:30',\n",
       "               '2015-08-20 09:36:00+05:30', '2015-08-20 09:37:00+05:30',\n",
       "               '2015-08-20 09:38:00+05:30', '2015-08-20 09:39:00+05:30',\n",
       "               '2015-08-20 09:40:00+05:30', '2015-08-20 09:41:00+05:30',\n",
       "               '2015-08-20 09:42:00+05:30', '2015-08-20 09:43:00+05:30',\n",
       "               '2015-08-20 09:44:00+05:30', '2015-08-20 09:45:00+05:30',\n",
       "               '2015-08-20 09:46:00+05:30', '2015-08-20 09:47:00+05:30',\n",
       "               '2015-08-20 09:48:00+05:30', '2015-08-20 09:49:00+05:30',\n",
       "               '2015-08-20 09:50:00+05:30'],\n",
       "              dtype='datetime64[ns, Asia/Kolkata]', name='time', freq='T')"
      ]
     },
     "execution_count": 178,
     "metadata": {},
     "output_type": "execute_result"
    }
   ],
   "source": [
    "df1m.index"
   ]
  },
  {
   "cell_type": "code",
   "execution_count": 179,
   "metadata": {},
   "outputs": [
    {
     "data": {
      "text/plain": [
       "Index(['lat', 'lng', 'height', 'dist'], dtype='object')"
      ]
     },
     "execution_count": 179,
     "metadata": {},
     "output_type": "execute_result"
    }
   ],
   "source": [
    "df1m.columns"
   ]
  },
  {
   "cell_type": "code",
   "execution_count": 180,
   "metadata": {},
   "outputs": [],
   "source": [
    "df['dt'] = dt / np.timedelta64(1, 'h')"
   ]
  },
  {
   "cell_type": "code",
   "execution_count": 181,
   "metadata": {},
   "outputs": [],
   "source": [
    "df1m = df.resample('1min').sum()"
   ]
  },
  {
   "cell_type": "code",
   "execution_count": 182,
   "metadata": {},
   "outputs": [],
   "source": [
    "speed1m = df1m['dist'] / df1m['dt']"
   ]
  },
  {
   "cell_type": "code",
   "execution_count": 183,
   "metadata": {},
   "outputs": [
    {
     "data": {
      "text/plain": [
       "time\n",
       "2015-08-20 09:18:00+05:30     8.127118\n",
       "2015-08-20 09:19:00+05:30     7.579874\n",
       "2015-08-20 09:20:00+05:30     9.127972\n",
       "2015-08-20 09:21:00+05:30    10.220818\n",
       "2015-08-20 09:22:00+05:30    10.114279\n",
       "2015-08-20 09:23:00+05:30     9.687690\n",
       "2015-08-20 09:24:00+05:30    10.856446\n",
       "2015-08-20 09:25:00+05:30    10.892145\n",
       "2015-08-20 09:26:00+05:30    10.270580\n",
       "2015-08-20 09:27:00+05:30     6.629397\n",
       "Freq: T, dtype: float64"
      ]
     },
     "execution_count": 183,
     "metadata": {},
     "output_type": "execute_result"
    }
   ],
   "source": [
    "speed1m[:10]"
   ]
  },
  {
   "cell_type": "code",
   "execution_count": 184,
   "metadata": {},
   "outputs": [
    {
     "data": {
      "text/plain": [
       "count    33.000000\n",
       "mean      8.658214\n",
       "std       1.543214\n",
       "min       5.285595\n",
       "25%       7.543402\n",
       "50%       8.538120\n",
       "75%      10.220818\n",
       "max      10.892145\n",
       "dtype: float64"
      ]
     },
     "execution_count": 184,
     "metadata": {},
     "output_type": "execute_result"
    }
   ],
   "source": [
    "speed1m.describe()"
   ]
  },
  {
   "cell_type": "code",
   "execution_count": 185,
   "metadata": {},
   "outputs": [],
   "source": [
    "%matplotlib inline"
   ]
  },
  {
   "cell_type": "code",
   "execution_count": 186,
   "metadata": {},
   "outputs": [
    {
     "data": {
      "text/plain": [
       "<matplotlib.axes._subplots.AxesSubplot at 0x180a593bc48>"
      ]
     },
     "execution_count": 186,
     "metadata": {},
     "output_type": "execute_result"
    },
    {
     "data": {
      "image/png": "[encoded data removed]",
      "text/plain": [
       "<Figure size 432x288 with 1 Axes>"
      ]
     },
     "metadata": {
      "needs_background": "light"
     },
     "output_type": "display_data"
    }
   ],
   "source": [
    "speed1m.plot()"
   ]
  },
  {
   "cell_type": "code",
   "execution_count": 187,
   "metadata": {},
   "outputs": [],
   "source": [
    "import matplotlib.pyplot as plt"
   ]
  },
  {
   "cell_type": "code",
   "execution_count": 188,
   "metadata": {},
   "outputs": [],
   "source": [
    "plt.rcParams['figure.figsize'] = (10,6)\n",
    "plt.style.use('seaborn-whitegrid')"
   ]
  },
  {
   "cell_type": "code",
   "execution_count": 189,
   "metadata": {},
   "outputs": [
    {
     "data": {
      "text/plain": [
       "<matplotlib.axes._subplots.AxesSubplot at 0x180a597e408>"
      ]
     },
     "execution_count": 189,
     "metadata": {},
     "output_type": "execute_result"
    },
    {
     "data": {
      "image/png": "[encoded data removed]",
      "text/plain": [
       "<Figure size 720x432 with 1 Axes>"
      ]
     },
     "metadata": {},
     "output_type": "display_data"
    }
   ],
   "source": [
    "speed1m.plot()"
   ]
  },
  {
   "cell_type": "code",
   "execution_count": 190,
   "metadata": {},
   "outputs": [
    {
     "data": {
      "text/plain": [
       "<matplotlib.axes._subplots.AxesSubplot at 0x180a55f7fc8>"
      ]
     },
     "execution_count": 190,
     "metadata": {},
     "output_type": "execute_result"
    },
    {
     "data": {
      "image/png": "[encoded data removed]",
      "text/plain": [
       "<Figure size 720x432 with 1 Axes>"
      ]
     },
     "metadata": {},
     "output_type": "display_data"
    }
   ],
   "source": [
    "speed1m.plot.box()"
   ]
  },
  {
   "cell_type": "code",
   "execution_count": 191,
   "metadata": {},
   "outputs": [],
   "source": [
    "import folium"
   ]
  },
  {
   "cell_type": "code",
   "execution_count": 192,
   "metadata": {},
   "outputs": [
    {
     "data": {
      "text/html": [
       "<div style=\"width:100%;\"><div style=\"position:relative;width:100%;height:0;padding-bottom:60%;\"><iframe src=\"data:text/html;charset=utf-8;base64,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\" style=\"position:absolute;width:100%;height:100%;left:0;top:0;border:none !important;\" allowfullscreen webkitallowfullscreen mozallowfullscreen></iframe></div></div>"
      ],
      "text/plain": [
       "<folium.folium.Map at 0x180a57a07c8>"
      ]
     },
     "execution_count": 192,
     "metadata": {},
     "output_type": "execute_result"
    }
   ],
   "source": [
    "m = folium.Map(location=[df['lng'].mean(), df['lat'].mean()], zoom_start=15)\n",
    "row = df.iloc[321]\n",
    "marker = folium.CircleMarker([row['lng'], row['lat']], radius=5, color='red', popup='Hi There')\n",
    "marker.add_to(m)\n",
    "m"
   ]
  },
  {
   "cell_type": "code",
   "execution_count": 193,
   "metadata": {},
   "outputs": [
    {
     "data": {
      "text/html": [
       "<div style=\"width:100%;\"><div style=\"position:relative;width:100%;height:0;padding-bottom:60%;\"><iframe src=\"data:text/html;charset=utf-8;base64,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\" style=\"position:absolute;width:100%;height:100%;left:0;top:0;border:none !important;\" allowfullscreen webkitallowfullscreen mozallowfullscreen></iframe></div></div>"
      ],
      "text/plain": [
       "<folium.folium.Map at 0x180a57b21c8>"
      ]
     },
     "execution_count": 193,
     "metadata": {},
     "output_type": "execute_result"
    }
   ],
   "source": [
    "m = folium.Map(location=[df['lng'].mean(), df['lat'].mean()], zoom_start=15)\n",
    "mdf = df.resample('T').mean()\n",
    "\n",
    "def add_marker(row):\n",
    "    marker = folium.CircleMarker([row['lng'], row['lat']], radius=5, color='red', popup=row.name.strftime('%H:%M'))\n",
    "    marker.add_to(m)\n",
    "mdf.apply(add_marker, axis=1)\n",
    "m"
   ]
  },
  {
   "cell_type": "code",
   "execution_count": 194,
   "metadata": {},
   "outputs": [
    {
     "data": {
      "image/svg+xml": [
       "<svg xmlns=\"http://www.w3.org/2000/svg\" xmlns:xlink=\"http://www.w3.org/1999/xlink\" width=\"100.0\" height=\"100.0\" viewBox=\"0.0 1.0 2.0 2.0\" preserveAspectRatio=\"xMinYMin meet\"><g transform=\"matrix(1,0,0,-1,0,4.0)\"><circle cx=\"1.0\" cy=\"2.0\" r=\"0.06\" stroke=\"#555555\" stroke-width=\"0.02\" fill=\"#66cc99\" opacity=\"0.6\" /></g></svg>"
      ],
      "text/plain": [
       "<shapely.geometry.point.Point at 0x180a57a3cc8>"
      ]
     },
     "execution_count": 194,
     "metadata": {},
     "output_type": "execute_result"
    }
   ],
   "source": [
    "from shapely.geometry import Point, Polygon\n",
    "pt = Point(1,2)\n",
    "pt"
   ]
  },
  {
   "cell_type": "code",
   "execution_count": 195,
   "metadata": {},
   "outputs": [
    {
     "data": {
      "text/plain": [
       "1.0"
      ]
     },
     "execution_count": 195,
     "metadata": {},
     "output_type": "execute_result"
    }
   ],
   "source": [
    "pt.x"
   ]
  },
  {
   "cell_type": "code",
   "execution_count": 196,
   "metadata": {},
   "outputs": [
    {
     "data": {
      "image/svg+xml": [
       "<svg xmlns=\"http://www.w3.org/2000/svg\" xmlns:xlink=\"http://www.w3.org/1999/xlink\" width=\"100.0\" height=\"100.0\" viewBox=\"-0.4 -0.4 10.8 10.8\" preserveAspectRatio=\"xMinYMin meet\"><g transform=\"matrix(1,0,0,-1,0,10.0)\"><path fill-rule=\"evenodd\" fill=\"#66cc99\" stroke=\"#555555\" stroke-width=\"0.21600000000000003\" opacity=\"0.6\" d=\"M 0.0,0.0 L 0.0,10.0 L 10.0,10.0 L 10.0,0.0 L 0.0,0.0 z\" /></g></svg>"
      ],
      "text/plain": [
       "<shapely.geometry.polygon.Polygon at 0x180a5795608>"
      ]
     },
     "execution_count": 196,
     "metadata": {},
     "output_type": "execute_result"
    }
   ],
   "source": [
    "poly = Polygon([[0,0], [0,10], [10,10], [10,0]])\n",
    "poly"
   ]
  },
  {
   "cell_type": "code",
   "execution_count": 197,
   "metadata": {},
   "outputs": [
    {
     "data": {
      "text/plain": [
       "100.0"
      ]
     },
     "execution_count": 197,
     "metadata": {},
     "output_type": "execute_result"
    }
   ],
   "source": [
    "poly.area"
   ]
  },
  {
   "cell_type": "code",
   "execution_count": 198,
   "metadata": {},
   "outputs": [
    {
     "data": {
      "text/plain": [
       "(array('d', [5.0]), array('d', [5.0]))"
      ]
     },
     "execution_count": 198,
     "metadata": {},
     "output_type": "execute_result"
    }
   ],
   "source": [
    "poly.centroid.xy"
   ]
  },
  {
   "cell_type": "code",
   "execution_count": 199,
   "metadata": {},
   "outputs": [
    {
     "data": {
      "text/plain": [
       "True"
      ]
     },
     "execution_count": 199,
     "metadata": {},
     "output_type": "execute_result"
    }
   ],
   "source": [
    "poly.intersects(pt)"
   ]
  },
  {
   "cell_type": "code",
   "execution_count": 200,
   "metadata": {},
   "outputs": [
    {
     "data": {
      "text/plain": [
       "False"
      ]
     },
     "execution_count": 200,
     "metadata": {},
     "output_type": "execute_result"
    }
   ],
   "source": [
    "poly.intersects(Point(10,20))"
   ]
  },
  {
   "cell_type": "code",
   "execution_count": 201,
   "metadata": {},
   "outputs": [
    {
     "data": {
      "text/html": [
       "<div>\n",
       "<style scoped>\n",
       "    .dataframe tbody tr th:only-of-type {\n",
       "        vertical-align: middle;\n",
       "    }\n",
       "\n",
       "    .dataframe tbody tr th {\n",
       "        vertical-align: top;\n",
       "    }\n",
       "\n",
       "    .dataframe thead th {\n",
       "        text-align: right;\n",
       "    }\n",
       "</style>\n",
       "<table border=\"1\" class=\"dataframe\">\n",
       "  <thead>\n",
       "    <tr style=\"text-align: right;\">\n",
       "      <th></th>\n",
       "      <th>lat</th>\n",
       "      <th>lng</th>\n",
       "      <th>height</th>\n",
       "      <th>dist</th>\n",
       "      <th>dt</th>\n",
       "      <th>pt</th>\n",
       "    </tr>\n",
       "    <tr>\n",
       "      <th>time</th>\n",
       "      <th></th>\n",
       "      <th></th>\n",
       "      <th></th>\n",
       "      <th></th>\n",
       "      <th></th>\n",
       "      <th></th>\n",
       "    </tr>\n",
       "  </thead>\n",
       "  <tbody>\n",
       "    <tr>\n",
       "      <th>2015-08-20 09:18:00+05:30</th>\n",
       "      <td>35.014571</td>\n",
       "      <td>32.519485</td>\n",
       "      <td>122.766666</td>\n",
       "      <td>0.005918</td>\n",
       "      <td>0.000728</td>\n",
       "      <td>POINT (32.51948457142857 35.01457057142857)</td>\n",
       "    </tr>\n",
       "    <tr>\n",
       "      <th>2015-08-20 09:19:00+05:30</th>\n",
       "      <td>35.014316</td>\n",
       "      <td>32.518971</td>\n",
       "      <td>122.966667</td>\n",
       "      <td>0.005670</td>\n",
       "      <td>0.000748</td>\n",
       "      <td>POINT (32.51897133333333 35.01431633333333)</td>\n",
       "    </tr>\n",
       "    <tr>\n",
       "      <th>2015-08-20 09:20:00+05:30</th>\n",
       "      <td>35.014055</td>\n",
       "      <td>32.517258</td>\n",
       "      <td>114.573913</td>\n",
       "      <td>0.012125</td>\n",
       "      <td>0.001328</td>\n",
       "      <td>POINT (32.51725782608695 35.0140552173913)</td>\n",
       "    </tr>\n",
       "    <tr>\n",
       "      <th>2015-08-20 09:21:00+05:30</th>\n",
       "      <td>35.013864</td>\n",
       "      <td>32.516264</td>\n",
       "      <td>106.653334</td>\n",
       "      <td>0.005682</td>\n",
       "      <td>0.000556</td>\n",
       "      <td>POINT (32.5162645 35.01386383333332)</td>\n",
       "    </tr>\n",
       "    <tr>\n",
       "      <th>2015-08-20 09:22:00+05:30</th>\n",
       "      <td>35.012744</td>\n",
       "      <td>32.515141</td>\n",
       "      <td>97.710000</td>\n",
       "      <td>0.005705</td>\n",
       "      <td>0.000564</td>\n",
       "      <td>POINT (32.51514063333333 35.0127444)</td>\n",
       "    </tr>\n",
       "  </tbody>\n",
       "</table>\n",
       "</div>"
      ],
      "text/plain": [
       "                                 lat        lng      height      dist  \\\n",
       "time                                                                    \n",
       "2015-08-20 09:18:00+05:30  35.014571  32.519485  122.766666  0.005918   \n",
       "2015-08-20 09:19:00+05:30  35.014316  32.518971  122.966667  0.005670   \n",
       "2015-08-20 09:20:00+05:30  35.014055  32.517258  114.573913  0.012125   \n",
       "2015-08-20 09:21:00+05:30  35.013864  32.516264  106.653334  0.005682   \n",
       "2015-08-20 09:22:00+05:30  35.012744  32.515141   97.710000  0.005705   \n",
       "\n",
       "                                 dt  \\\n",
       "time                                  \n",
       "2015-08-20 09:18:00+05:30  0.000728   \n",
       "2015-08-20 09:19:00+05:30  0.000748   \n",
       "2015-08-20 09:20:00+05:30  0.001328   \n",
       "2015-08-20 09:21:00+05:30  0.000556   \n",
       "2015-08-20 09:22:00+05:30  0.000564   \n",
       "\n",
       "                                                                    pt  \n",
       "time                                                                    \n",
       "2015-08-20 09:18:00+05:30  POINT (32.51948457142857 35.01457057142857)  \n",
       "2015-08-20 09:19:00+05:30  POINT (32.51897133333333 35.01431633333333)  \n",
       "2015-08-20 09:20:00+05:30   POINT (32.51725782608695 35.0140552173913)  \n",
       "2015-08-20 09:21:00+05:30         POINT (32.5162645 35.01386383333332)  \n",
       "2015-08-20 09:22:00+05:30         POINT (32.51514063333333 35.0127444)  "
      ]
     },
     "execution_count": 201,
     "metadata": {},
     "output_type": "execute_result"
    }
   ],
   "source": [
    "mdf['pt'] = mdf[['lng', 'lat']].apply(Point, axis=1)\n",
    "mdf.head()"
   ]
  },
  {
   "cell_type": "code",
   "execution_count": 202,
   "metadata": {},
   "outputs": [],
   "source": [
    "mean_lng, max_lng = mdf['lng'].mean(), mdf['lng'].max()\n",
    "mean_lat, max_lat = mdf['lat'].mean(), mdf['lat'].max()"
   ]
  },
  {
   "cell_type": "code",
   "execution_count": 203,
   "metadata": {},
   "outputs": [],
   "source": [
    "poly = Polygon([\n",
    "    [mean_lng, mean_lat],\n",
    "    [mean_lng, max_lat],\n",
    "    [max_lng, max_lat],\n",
    "    [max_lng, mean_lat]\n",
    "])"
   ]
  },
  {
   "cell_type": "code",
   "execution_count": 204,
   "metadata": {},
   "outputs": [
    {
     "data": {
      "text/plain": [
       "(array('d', [32.5123189947394, 32.5123189947394, 32.51948457142857, 32.51948457142857, 32.5123189947394]),\n",
       " array('d', [35.01567806812503, 35.02252776190477, 35.02252776190477, 35.01567806812503, 35.01567806812503]))"
      ]
     },
     "execution_count": 204,
     "metadata": {},
     "output_type": "execute_result"
    }
   ],
   "source": [
    "poly.exterior.xy"
   ]
  },
  {
   "cell_type": "code",
   "execution_count": 205,
   "metadata": {},
   "outputs": [],
   "source": [
    "import numpy as np"
   ]
  },
  {
   "cell_type": "code",
   "execution_count": 206,
   "metadata": {},
   "outputs": [
    {
     "data": {
      "text/plain": [
       "array([[32.51231899, 35.01567807],\n",
       "       [32.51231899, 35.02252776],\n",
       "       [32.51948457, 35.02252776],\n",
       "       [32.51948457, 35.01567807],\n",
       "       [32.51231899, 35.01567807]])"
      ]
     },
     "execution_count": 206,
     "metadata": {},
     "output_type": "execute_result"
    }
   ],
   "source": [
    "np.stack(poly.exterior.xy).T"
   ]
  },
  {
   "cell_type": "code",
   "execution_count": 207,
   "metadata": {},
   "outputs": [
    {
     "data": {
      "text/html": [
       "<div style=\"width:100%;\"><div style=\"position:relative;width:100%;height:0;padding-bottom:60%;\"><iframe src=\"data:text/html;charset=utf-8;base64,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\" style=\"position:absolute;width:100%;height:100%;left:0;top:0;border:none !important;\" allowfullscreen webkitallowfullscreen mozallowfullscreen></iframe></div></div>"
      ],
      "text/plain": [
       "<folium.folium.Map at 0x180a56317c8>"
      ]
     },
     "execution_count": 207,
     "metadata": {},
     "output_type": "execute_result"
    }
   ],
   "source": [
    "m = folium.Map(location=[df['lng'].mean(), df['lat'].mean()], zoom_start=15)\n",
    "mdf = df.resample('T').mean()\n",
    "mdf['pt'] = mdf[['lng', 'lat']].apply(Point, axis=1)\n",
    "\n",
    "def add_marker(row):\n",
    "    color = 'yellow' if poly.intersects(row['pt']) else 'green'\n",
    "    marker = folium.CircleMarker([row['lng'], row['lat']], radius=5, color='red',\n",
    "                                 popup=row.name.strftime('%H:%M'), fill_color=color)\n",
    "    marker.add_to(m)\n",
    "m.add_child(folium.PolyLine(np.stack(poly.exterior.xy).T, color='yellow', ))\n",
    "mdf.apply(add_marker, axis=1)\n",
    "m"
   ]
  },
  {
   "cell_type": "code",
   "execution_count": null,
   "metadata": {},
   "outputs": [],
   "source": []
  }
 ],
 "metadata": {
  "kernelspec": {
   "display_name": "Python 3",
   "language": "python",
   "name": "python3"
  },
  "language_info": {
   "codemirror_mode": {
    "name": "ipython",
    "version": 3
   },
   "file_extension": ".py",
   "mimetype": "text/x-python",
   "name": "python",
   "nbconvert_exporter": "python",
   "pygments_lexer": "ipython3",
   "version": "3.7.4"
  }
 },
 "nbformat": 4,
 "nbformat_minor": 4
}
