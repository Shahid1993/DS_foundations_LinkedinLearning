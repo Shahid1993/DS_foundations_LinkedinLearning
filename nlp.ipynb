{
 "cells": [
  {
   "cell_type": "code",
   "execution_count": 1,
   "metadata": {},
   "outputs": [],
   "source": [
    "from os import path"
   ]
  },
  {
   "cell_type": "code",
   "execution_count": 5,
   "metadata": {},
   "outputs": [],
   "source": [
    "fname = path.expanduser('~/AppData/Roaming/nltk_data/corpora/abc/science.txt')\n",
    "with open(fname, 'rb') as fp:\n",
    "    data = fp.read().decode(errors = 'replace')"
   ]
  },
  {
   "cell_type": "code",
   "execution_count": 7,
   "metadata": {},
   "outputs": [
    {
     "name": "stdout",
     "output_type": "stream",
     "text": [
      "Cystic fibrosis affects 30,000 children and young adults in the US alone\n",
      "Inhaling the mists of salt water can reduce the pus and infection that fills the airways of cystic fibrosis sufferers, although side effects include a nasty coughing fit and a harsh taste. \n",
      "That's the conclusion of two studies published in this week's issue of The New England Journal of Medicine.\n",
      "They found that inhaling a mist with a salt content of 7 or 9% improved lung function and, in some cases, produced less absenteeism from school or work. \n",
      "Cystic fibrosis, a progressive and frequently fatal genetic disease that affects about 30,000 young adults and children in the US alone, is marked by a thickening of the mucus which makes it harder to clear the lungs of debris and bacteria. \n",
      "The salt water solution \"really opens up a new avenue for approaching patients with cystic fibrosis and how to treat them,\" says Dr Gail Weinmann, of the US National Heart, Lung, and Blood Institute, which sponsored one of the studies. \n",
      "Mark Elkins of the Royal Prince Alfred Hospital in Sydney, Australia and colleagues authored one of the new published studies.\n",
      "The team found that the 83 volunteers who regularly inhaled a 7% mist of salty water had fewer breathing problems and less absenteeism from school or work than those who inhaled a solution with a salt content of under 1%. \n",
      "\"Adding salt [and water] to the airway surfaces of patients with cystic fibrosis is beneficial\" for both children and adults, they conclude. \n",
      "All of the patients first inhaled a chemical to try to open their lung passages as much as possible.\n",
      "In the second study, US-based Assistant Profsesor Scott Donaldson of the University of North Carolina at Chapel Hill and his colleagues found that a 7% salt mist \"produced a sustained acceleration of mucus clearance and improved lung function\" because it helped hydrate the lungs.\n",
      "In an accompanying editorial, Dr Felix Ratjen of the Hospital for Sick Children in Toronto, Canada, cited several unpleasant side effects of the salt mist treatment including a bad taste, coughing fits and the lengthy 30 minutes it can take to administer. \n",
      "He added that in the study by Elkins and team, patients may not have received the best long-term antibiotic treatment. \n",
      "That would make the inhaled salt water mist appear more effective than it would have been if people were getting a better drug, says Ratjen. \n",
      "Weinmann says limitations inherent to the treatment mean a salt water mist \"may be just a first step\" in treating cystic fibrosis.\n"
     ]
    }
   ],
   "source": [
    "articles = data.split('\\r\\n\\r\\n')\n",
    "article = articles[0]\n",
    "print(article)"
   ]
  },
  {
   "cell_type": "code",
   "execution_count": 8,
   "metadata": {},
   "outputs": [],
   "source": [
    "from nltk.tokenize import sent_tokenize"
   ]
  },
  {
   "cell_type": "code",
   "execution_count": 9,
   "metadata": {},
   "outputs": [
    {
     "name": "stdout",
     "output_type": "stream",
     "text": [
      "Cystic fibrosis affects 30,000 children and young adults in the US alone\n",
      "Inhaling the mists of salt water can reduce the pus and infection that fills the airways of cystic fibrosis sufferers, although side effects include a nasty coughing fit and a harsh taste.\n"
     ]
    }
   ],
   "source": [
    "sents = sent_tokenize(article)\n",
    "print(sents[0])"
   ]
  },
  {
   "cell_type": "code",
   "execution_count": 10,
   "metadata": {},
   "outputs": [],
   "source": [
    "from nltk.corpus import stopwords\n",
    "import re"
   ]
  },
  {
   "cell_type": "code",
   "execution_count": 12,
   "metadata": {},
   "outputs": [],
   "source": [
    "stop = set(stopwords.words('english'))"
   ]
  },
  {
   "cell_type": "code",
   "execution_count": 22,
   "metadata": {},
   "outputs": [],
   "source": [
    "def is_ok(token):\n",
    "    return re.match('^[a-z]+$', token) and token not in stop"
   ]
  },
  {
   "cell_type": "code",
   "execution_count": 23,
   "metadata": {},
   "outputs": [],
   "source": [
    "from nltk.tokenize import word_tokenize\n",
    "def tokenize(sent):\n",
    "    return [word for word in word_tokenize(sent.lower()) if is_ok(word)]"
   ]
  },
  {
   "cell_type": "code",
   "execution_count": 24,
   "metadata": {},
   "outputs": [],
   "source": [
    "from collections import Counter"
   ]
  },
  {
   "cell_type": "code",
   "execution_count": 25,
   "metadata": {},
   "outputs": [],
   "source": [
    "def summarize(text, n=3):\n",
    "    sents = sent_tokenize(text)\n",
    "    bow = [tokenize(sent) for sent in sents]\n",
    "    tf = Counter()\n",
    "    \n",
    "    for sent in bow:\n",
    "        tf.update(sent)\n",
    "        \n",
    "    def score(i):\n",
    "        return sum(tf[word] for word in bow[i])\n",
    "    \n",
    "    idx = sorted(range(len(bow)), key=score, reverse=True)[:n]\n",
    "    return [sents[i] for i in idx]"
   ]
  },
  {
   "cell_type": "code",
   "execution_count": 26,
   "metadata": {},
   "outputs": [
    {
     "data": {
      "text/plain": [
       "['Cystic fibrosis affects 30,000 children and young adults in the US alone\\r\\nInhaling the mists of salt water can reduce the pus and infection that fills the airways of cystic fibrosis sufferers, although side effects include a nasty coughing fit and a harsh taste.',\n",
       " 'The salt water solution \"really opens up a new avenue for approaching patients with cystic fibrosis and how to treat them,\" says Dr Gail Weinmann, of the US National Heart, Lung, and Blood Institute, which sponsored one of the studies.',\n",
       " 'The team found that the 83 volunteers who regularly inhaled a 7% mist of salty water had fewer breathing problems and less absenteeism from school or work than those who inhaled a solution with a salt content of under 1%.']"
      ]
     },
     "execution_count": 26,
     "metadata": {},
     "output_type": "execute_result"
    }
   ],
   "source": [
    "summarize(articles[0])"
   ]
  },
  {
   "cell_type": "markdown",
   "metadata": {},
   "source": [
    "## SpaCy"
   ]
  },
  {
   "cell_type": "code",
   "execution_count": 32,
   "metadata": {},
   "outputs": [],
   "source": [
    "import spacy\n",
    "nlp = spacy.load('en')"
   ]
  },
  {
   "cell_type": "code",
   "execution_count": 33,
   "metadata": {},
   "outputs": [],
   "source": [
    "fname = path.expanduser('~/AppData/Roaming/nltk_data/corpora/inaugural/1993-Clinton.txt')\n",
    "with open(fname) as fp:\n",
    "    data = fp.read()"
   ]
  },
  {
   "cell_type": "code",
   "execution_count": 37,
   "metadata": {},
   "outputs": [
    {
     "name": "stdout",
     "output_type": "stream",
     "text": [
      "My fellow citizens, today we celebrate the mystery of American renewal.\n"
     ]
    }
   ],
   "source": [
    "doc = nlp(data)\n",
    "\n",
    "sent = next(doc.sents)\n",
    "print(sent)"
   ]
  },
  {
   "cell_type": "code",
   "execution_count": 39,
   "metadata": {},
   "outputs": [
    {
     "name": "stdout",
     "output_type": "stream",
     "text": [
      "My --> \n",
      "fellow --> \n",
      "citizens --> \n",
      ", --> \n",
      "today --> DATE\n",
      "we --> \n",
      "celebrate --> \n",
      "the --> \n",
      "mystery --> \n",
      "of --> \n",
      "American --> NORP\n",
      "renewal --> \n",
      ". --> \n"
     ]
    }
   ],
   "source": [
    "for tok in sent:\n",
    "    print('{} --> {}'.format(tok, tok.ent_type_))"
   ]
  },
  {
   "cell_type": "code",
   "execution_count": 40,
   "metadata": {},
   "outputs": [
    {
     "name": "stdout",
     "output_type": "stream",
     "text": [
      "today   --> DATE\n",
      "American   --> NORP\n",
      "winter  --> DATE\n",
      "the spring  --> DATE\n",
      "spring   --> DATE\n",
      "America  --> GPE\n",
      "America  --> GPE\n",
      "America  --> GPE\n",
      "America  --> GPE\n",
      "American  --> NORP\n"
     ]
    }
   ],
   "source": [
    "for ent in doc.ents[:10]:\n",
    "    print('{}  --> {}'.format(ent.string, ent.label_))"
   ]
  },
  {
   "cell_type": "code",
   "execution_count": 41,
   "metadata": {},
   "outputs": [
    {
     "data": {
      "text/plain": [
       "[Bush, George Washington, Thomas Jefferson, Franklin Roosevelt, Scripture, God]"
      ]
     },
     "execution_count": 41,
     "metadata": {},
     "output_type": "execute_result"
    }
   ],
   "source": [
    "[ent for ent in doc.ents if ent.label == spacy.symbols.PERSON]"
   ]
  },
  {
   "cell_type": "code",
   "execution_count": null,
   "metadata": {},
   "outputs": [],
   "source": []
  }
 ],
 "metadata": {
  "kernelspec": {
   "display_name": "Python 3",
   "language": "python",
   "name": "python3"
  },
  "language_info": {
   "codemirror_mode": {
    "name": "ipython",
    "version": 3
   },
   "file_extension": ".py",
   "mimetype": "text/x-python",
   "name": "python",
   "nbconvert_exporter": "python",
   "pygments_lexer": "ipython3",
   "version": "3.7.1"
  }
 },
 "nbformat": 4,
 "nbformat_minor": 2
}
